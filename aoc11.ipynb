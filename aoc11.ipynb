{
 "cells": [
  {
   "cell_type": "code",
   "execution_count": 1,
   "metadata": {},
   "outputs": [],
   "source": [
    "import numpy as np"
   ]
  },
  {
   "cell_type": "code",
   "execution_count": 88,
   "metadata": {},
   "outputs": [],
   "source": [
    "with open('aoc11.txt') as f:\n",
    "    room = [x.strip('\\n') for x in f.readlines()]"
   ]
  },
  {
   "cell_type": "markdown",
   "metadata": {},
   "source": [
    "### Part 1"
   ]
  },
  {
   "cell_type": "code",
   "execution_count": 57,
   "metadata": {},
   "outputs": [],
   "source": [
    "seats = []\n",
    "for i in range(len(room)):\n",
    "    seats += [(i,x) for x in range(len(room[i])) if room[i][x] == 'L']"
   ]
  },
  {
   "cell_type": "code",
   "execution_count": 55,
   "metadata": {},
   "outputs": [
    {
     "data": {
      "text/plain": [
       "2265.0"
      ]
     },
     "execution_count": 55,
     "metadata": {},
     "output_type": "execute_result"
    }
   ],
   "source": [
    "current_room = np.zeros((len(room),len(room[0])))\n",
    "\n",
    "while True:\n",
    "    \n",
    "    new_room = current_room.copy()\n",
    "\n",
    "    for seat in seats:     \n",
    "        occupieds = 0\n",
    "        for i in range(-1,2):\n",
    "            for j in range(-1,2):\n",
    "                if not i == j == 0 and seat[0] + i >= 0 and seat[1] + j >= 0:\n",
    "                    try:\n",
    "                        occupieds += current_room[seat[0] + i, seat[1] + j]\n",
    "                    except:\n",
    "                        pass\n",
    "        if occupieds == 0:\n",
    "            new_room[seat] = 1\n",
    "        if occupieds >= 4:\n",
    "            new_room[seat] = 0\n",
    "    if (current_room == new_room).all():\n",
    "        break\n",
    "    current_room = new_room  \n",
    "    \n",
    "current_room.sum()"
   ]
  },
  {
   "cell_type": "markdown",
   "metadata": {},
   "source": [
    "### Part 2"
   ]
  },
  {
   "cell_type": "code",
   "execution_count": 89,
   "metadata": {},
   "outputs": [],
   "source": [
    "seats = []\n",
    "for i in range(len(room)):\n",
    "    seats += [(i,x) for x in range(len(room[i])) if room[i][x] == 'L']"
   ]
  },
  {
   "cell_type": "code",
   "execution_count": 90,
   "metadata": {},
   "outputs": [],
   "source": [
    "seatdict = {}\n",
    "for seat in seats:\n",
    "    seatdict[seat] = []\n",
    "    for i in range(-1,2):\n",
    "        for j in range(-1,2):\n",
    "            if not i == j == 0:       \n",
    "                dist = 1\n",
    "                while dist < len(room[0]):\n",
    "                    if (seat[0] + i*dist, seat[1] + j*dist) in seats:\n",
    "                        seatdict[seat].append((seat[0] + i*dist, seat[1] + j*dist))\n",
    "                        break\n",
    "                    dist += 1\n",
    "            "
   ]
  },
  {
   "cell_type": "code",
   "execution_count": 91,
   "metadata": {},
   "outputs": [
    {
     "data": {
      "text/plain": [
       "2045.0"
      ]
     },
     "execution_count": 91,
     "metadata": {},
     "output_type": "execute_result"
    }
   ],
   "source": [
    "current_room = np.zeros((len(room),len(room[0])))\n",
    "\n",
    "while True:\n",
    "    \n",
    "    new_room = current_room.copy()\n",
    "\n",
    "    for seat in seats:\n",
    "        occupieds = sum([current_room[x] for x in seatdict[seat]])\n",
    "        if occupieds == 0:\n",
    "            new_room[seat] = 1\n",
    "        if occupieds >= 5:\n",
    "            new_room[seat] = 0\n",
    "    if (current_room == new_room).all():\n",
    "        break\n",
    "    current_room = new_room\n",
    "   \n",
    "    \n",
    "current_room.sum()"
   ]
  },
  {
   "cell_type": "code",
   "execution_count": null,
   "metadata": {},
   "outputs": [],
   "source": []
  },
  {
   "cell_type": "code",
   "execution_count": null,
   "metadata": {},
   "outputs": [],
   "source": []
  },
  {
   "cell_type": "code",
   "execution_count": null,
   "metadata": {},
   "outputs": [],
   "source": []
  },
  {
   "cell_type": "code",
   "execution_count": null,
   "metadata": {},
   "outputs": [],
   "source": []
  }
 ],
 "metadata": {
  "kernelspec": {
   "display_name": "Python 3",
   "language": "python",
   "name": "python3"
  },
  "language_info": {
   "codemirror_mode": {
    "name": "ipython",
    "version": 3
   },
   "file_extension": ".py",
   "mimetype": "text/x-python",
   "name": "python",
   "nbconvert_exporter": "python",
   "pygments_lexer": "ipython3",
   "version": "3.7.4"
  }
 },
 "nbformat": 4,
 "nbformat_minor": 2
}
