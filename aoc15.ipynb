{
 "cells": [
  {
   "cell_type": "code",
   "execution_count": 18,
   "metadata": {},
   "outputs": [],
   "source": [
    "l = [0,12,6,13,20,1,17]"
   ]
  },
  {
   "cell_type": "markdown",
   "metadata": {},
   "source": [
    "### Part 1"
   ]
  },
  {
   "cell_type": "code",
   "execution_count": 19,
   "metadata": {},
   "outputs": [
    {
     "data": {
      "text/plain": [
       "620"
      ]
     },
     "execution_count": 19,
     "metadata": {},
     "output_type": "execute_result"
    }
   ],
   "source": [
    "while len(l)<2020:\n",
    "    indices = [i for i in range(len(l)) if l[i]==l[-1]]\n",
    "    if len(indices) == 1:\n",
    "        l.append(0)\n",
    "    else:\n",
    "        l.append(abs(indices[-2] - indices[-1]))\n",
    "l[-1]"
   ]
  },
  {
   "cell_type": "markdown",
   "metadata": {},
   "source": [
    "### Part 2"
   ]
  },
  {
   "cell_type": "code",
   "execution_count": 65,
   "metadata": {},
   "outputs": [
    {
     "name": "stdout",
     "output_type": "stream",
     "text": [
      "110871\n"
     ]
    }
   ],
   "source": [
    "l = [0,12,6,13,20,1,17]\n",
    "\n",
    "\n",
    "numdict = {0:[]}\n",
    "for i in range(len(l)):\n",
    "    numdict[l[i]] = [i]\n",
    "lastnum = l[-1]    \n",
    "\n",
    "for i in range(len(l)-1,30000000-1):\n",
    "    if len(numdict[lastnum]) == 1:\n",
    "        numdict[0] = [numdict[0][-1], i+1]\n",
    "        lastnum = 0\n",
    "    else:\n",
    "        lastnum = abs(numdict[lastnum][-2] - numdict[lastnum][-1])\n",
    "        try:\n",
    "            numdict[lastnum] = [numdict[lastnum][-1], i+1]\n",
    "        except:\n",
    "            numdict[lastnum] = [i+1]\n",
    "        \n",
    "    i+=1\n",
    "    \n",
    "print(lastnum)"
   ]
  },
  {
   "cell_type": "code",
   "execution_count": null,
   "metadata": {},
   "outputs": [],
   "source": []
  },
  {
   "cell_type": "code",
   "execution_count": 49,
   "metadata": {},
   "outputs": [],
   "source": [
    "def first_solution(l):\n",
    "    while len(l)<2020:\n",
    "        indices = [i for i in range(len(l)) if l[i]==l[-1]]\n",
    "        if len(indices) == 1:\n",
    "            l.append(0)\n",
    "        else:\n",
    "            l.append(abs(indices[-2] - indices[-1]))\n",
    "    return l"
   ]
  },
  {
   "cell_type": "code",
   "execution_count": 50,
   "metadata": {},
   "outputs": [
    {
     "name": "stdout",
     "output_type": "stream",
     "text": [
      "309 ms ± 16.7 ms per loop (mean ± std. dev. of 7 runs, 1 loop each)\n"
     ]
    }
   ],
   "source": [
    "%timeit (first_solution([0,12,6,13,20,1,17]))"
   ]
  },
  {
   "cell_type": "code",
   "execution_count": 48,
   "metadata": {},
   "outputs": [],
   "source": [
    "def second_solution(l):\n",
    "    numdict = {0:[]}\n",
    "    for i in range(len(l)):\n",
    "        numdict[l[i]] = [i]\n",
    "    lastnum = l[-1]    \n",
    "    for i in range(len(l)-1,2019):\n",
    "        if len(numdict[lastnum]) == 1:\n",
    "            numdict[0] = [numdict[0][-1], i+1]\n",
    "            lastnum = 0\n",
    "        else:\n",
    "            lastnum = abs(numdict[lastnum][-2] - numdict[lastnum][-1])\n",
    "            try:\n",
    "                numdict[lastnum] = [numdict[lastnum][-1], i+1]\n",
    "            except:\n",
    "                numdict[lastnum] = [i+1]\n",
    "\n",
    "        i+=1\n",
    "    return(lastnum)"
   ]
  },
  {
   "cell_type": "code",
   "execution_count": 51,
   "metadata": {},
   "outputs": [
    {
     "name": "stdout",
     "output_type": "stream",
     "text": [
      "1.98 ms ± 111 µs per loop (mean ± std. dev. of 7 runs, 1000 loops each)\n"
     ]
    }
   ],
   "source": [
    "%timeit (second_solution([0,12,6,13,20,1,17]))"
   ]
  },
  {
   "cell_type": "code",
   "execution_count": null,
   "metadata": {},
   "outputs": [],
   "source": []
  }
 ],
 "metadata": {
  "kernelspec": {
   "display_name": "Python 3",
   "language": "python",
   "name": "python3"
  },
  "language_info": {
   "codemirror_mode": {
    "name": "ipython",
    "version": 3
   },
   "file_extension": ".py",
   "mimetype": "text/x-python",
   "name": "python",
   "nbconvert_exporter": "python",
   "pygments_lexer": "ipython3",
   "version": "3.7.4"
  }
 },
 "nbformat": 4,
 "nbformat_minor": 2
}
