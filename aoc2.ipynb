{
 "cells": [
  {
   "cell_type": "code",
   "execution_count": 7,
   "metadata": {},
   "outputs": [],
   "source": [
    "with open('aoc2.txt') as f:\n",
    "    l = f.readlines()"
   ]
  },
  {
   "cell_type": "code",
   "execution_count": 14,
   "metadata": {},
   "outputs": [],
   "source": [
    "import re"
   ]
  },
  {
   "cell_type": "code",
   "execution_count": 72,
   "metadata": {},
   "outputs": [],
   "source": [
    "valids = 0\n",
    "for line in [x.strip('\\n') for x in l]:\n",
    "    minmax = re.findall('\\d+\\-\\d+',line)[0].split('-')\n",
    "    letter = re.findall('\\w\\:',line)[0].strip('\\:')\n",
    "    pw = re.findall('[a-z]{2,}',line)[0]\n",
    "    if (pw.count(letter) >= int(minmax[0])) & (pw.count(letter) <= int(minmax[1])):\n",
    "        valids += 1"
   ]
  },
  {
   "cell_type": "code",
   "execution_count": 73,
   "metadata": {},
   "outputs": [
    {
     "data": {
      "text/plain": [
       "(1000, 477)"
      ]
     },
     "execution_count": 73,
     "metadata": {},
     "output_type": "execute_result"
    }
   ],
   "source": [
    "len(l), valids"
   ]
  },
  {
   "cell_type": "markdown",
   "metadata": {},
   "source": [
    "# part 2"
   ]
  },
  {
   "cell_type": "code",
   "execution_count": 85,
   "metadata": {},
   "outputs": [],
   "source": [
    "valids = 0\n",
    "for line in [x.strip('\\n') for x in l]:\n",
    "    minmax = re.findall('\\d+\\-\\d+',line)[0].split('-')\n",
    "    letter = re.findall('\\w\\:',line)[0].strip('\\:')\n",
    "    pw = re.findall('[a-z]{2,}',line)[0]\n",
    "    if (pw[int(minmax[0])-1] + pw[int(minmax[1])-1]).count(letter) == 1:\n",
    "        valids += 1"
   ]
  },
  {
   "cell_type": "code",
   "execution_count": 86,
   "metadata": {},
   "outputs": [
    {
     "data": {
      "text/plain": [
       "(1000, 686)"
      ]
     },
     "execution_count": 86,
     "metadata": {},
     "output_type": "execute_result"
    }
   ],
   "source": [
    "len(l), valids"
   ]
  },
  {
   "cell_type": "code",
   "execution_count": null,
   "metadata": {},
   "outputs": [],
   "source": []
  }
 ],
 "metadata": {
  "kernelspec": {
   "display_name": "Python 3",
   "language": "python",
   "name": "python3"
  },
  "language_info": {
   "codemirror_mode": {
    "name": "ipython",
    "version": 3
   },
   "file_extension": ".py",
   "mimetype": "text/x-python",
   "name": "python",
   "nbconvert_exporter": "python",
   "pygments_lexer": "ipython3",
   "version": "3.7.4"
  }
 },
 "nbformat": 4,
 "nbformat_minor": 2
}
