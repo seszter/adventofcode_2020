{
 "cells": [
  {
   "cell_type": "code",
   "execution_count": 168,
   "metadata": {},
   "outputs": [],
   "source": [
    "from itertools import combinations\n",
    "from numpy import prod\n",
    "import pandas as pd"
   ]
  },
  {
   "cell_type": "markdown",
   "metadata": {},
   "source": [
    "### a pandas solution"
   ]
  },
  {
   "cell_type": "markdown",
   "metadata": {},
   "source": [
    "### Part 1"
   ]
  },
  {
   "cell_type": "code",
   "execution_count": 209,
   "metadata": {},
   "outputs": [],
   "source": [
    "with open('aoc10.txt') as f:\n",
    "    jolts = [0] + [int(x.strip('\\n')) for x in f.readlines()]\n",
    "jolts.append(max(jolts)+3)\n",
    "jolts.sort()"
   ]
  },
  {
   "cell_type": "code",
   "execution_count": 57,
   "metadata": {},
   "outputs": [],
   "source": [
    "df = pd.DataFrame(jolts)\n",
    "df['diff'] = df[0] - df[0].shift(1)"
   ]
  },
  {
   "cell_type": "code",
   "execution_count": 47,
   "metadata": {},
   "outputs": [
    {
     "data": {
      "text/plain": [
       "1904"
      ]
     },
     "execution_count": 47,
     "metadata": {},
     "output_type": "execute_result"
    }
   ],
   "source": [
    "df['diff'].value_counts().loc[3] * df['diff'].value_counts().loc[1]"
   ]
  },
  {
   "cell_type": "markdown",
   "metadata": {},
   "source": [
    "### Part 2"
   ]
  },
  {
   "cell_type": "code",
   "execution_count": 361,
   "metadata": {},
   "outputs": [],
   "source": [
    "with open('aoc10.txt') as f:\n",
    "    jolts = [0] + [int(x.strip('\\n')) for x in f.readlines()]\n",
    "jolts.sort()"
   ]
  },
  {
   "cell_type": "code",
   "execution_count": 362,
   "metadata": {},
   "outputs": [],
   "source": [
    "# let's find the chunks that can be altered\n",
    "\n",
    "df = pd.DataFrame(jolts)\n",
    "df['diff'] = df[0] - df[0].shift(1)\n",
    "df['border'] = ((df['diff'] == 3) & ((df['diff'].shift(-1) == 1) | (df['diff'].shift(1) == 1)) )\n",
    "df['chunk'] = df['border'].cumsum()\n",
    "\n",
    "chunks = df.groupby('chunk') \\\n",
    "            .apply(lambda x: x[0]) \\\n",
    "            .reset_index() \\\n",
    "            .pivot_table(columns = 'chunk', values = 0, aggfunc=lambda x:list(x)) \\\n",
    "            .T\n",
    "chunks['len'] = chunks[0].apply(lambda x: len(x))\n",
    "chunks = chunks[chunks['len'] > 1].copy()"
   ]
  },
  {
   "cell_type": "code",
   "execution_count": 353,
   "metadata": {},
   "outputs": [
    {
     "data": {
      "text/plain": [
       "{2: 1, 5: 7, 4: 4, 3: 2}"
      ]
     },
     "execution_count": 353,
     "metadata": {},
     "output_type": "execute_result"
    }
   ],
   "source": [
    "# how many valid combinations are possible for each chunk size\n",
    "comb_dict = {}\n",
    "for n in chunks['len'].unique():    \n",
    "    l = list(range(n))\n",
    "    valids = 0\n",
    "    for i in range(1,len(l)+1):\n",
    "        for comb in combinations(l,i):\n",
    "            newlist = [-3] + list(comb) + [n+2]\n",
    "            if max([x - newlist[i - 1] for i, x in enumerate(newlist)][1:]) <= 3:\n",
    "                valids += 1\n",
    "    comb_dict[n] = valids\n",
    "comb_dict"
   ]
  },
  {
   "cell_type": "code",
   "execution_count": 363,
   "metadata": {},
   "outputs": [],
   "source": [
    "chunks['combs'] = chunks['len'].map(comb_dict)"
   ]
  },
  {
   "cell_type": "code",
   "execution_count": 335,
   "metadata": {},
   "outputs": [
    {
     "data": {
      "text/plain": [
       "10578455953408"
      ]
     },
     "execution_count": 335,
     "metadata": {},
     "output_type": "execute_result"
    }
   ],
   "source": [
    "prod(chunks['combs'])"
   ]
  },
  {
   "cell_type": "code",
   "execution_count": 340,
   "metadata": {},
   "outputs": [
    {
     "data": {
      "text/html": [
       "<div>\n",
       "<style scoped>\n",
       "    .dataframe tbody tr th:only-of-type {\n",
       "        vertical-align: middle;\n",
       "    }\n",
       "\n",
       "    .dataframe tbody tr th {\n",
       "        vertical-align: top;\n",
       "    }\n",
       "\n",
       "    .dataframe thead th {\n",
       "        text-align: right;\n",
       "    }\n",
       "</style>\n",
       "<table border=\"1\" class=\"dataframe\">\n",
       "  <thead>\n",
       "    <tr style=\"text-align: right;\">\n",
       "      <th></th>\n",
       "      <th>0</th>\n",
       "      <th>len</th>\n",
       "      <th>combs</th>\n",
       "    </tr>\n",
       "    <tr>\n",
       "      <th>chunk</th>\n",
       "      <th></th>\n",
       "      <th></th>\n",
       "      <th></th>\n",
       "    </tr>\n",
       "  </thead>\n",
       "  <tbody>\n",
       "    <tr>\n",
       "      <td>0</td>\n",
       "      <td>[0, 1, 2]</td>\n",
       "      <td>3</td>\n",
       "      <td>2</td>\n",
       "    </tr>\n",
       "    <tr>\n",
       "      <td>1</td>\n",
       "      <td>[5, 6]</td>\n",
       "      <td>2</td>\n",
       "      <td>1</td>\n",
       "    </tr>\n",
       "    <tr>\n",
       "      <td>2</td>\n",
       "      <td>[9, 10, 11, 12, 13]</td>\n",
       "      <td>5</td>\n",
       "      <td>7</td>\n",
       "    </tr>\n",
       "    <tr>\n",
       "      <td>4</td>\n",
       "      <td>[19, 20, 21, 22, 23]</td>\n",
       "      <td>5</td>\n",
       "      <td>7</td>\n",
       "    </tr>\n",
       "    <tr>\n",
       "      <td>5</td>\n",
       "      <td>[26, 27, 28, 29, 30]</td>\n",
       "      <td>5</td>\n",
       "      <td>7</td>\n",
       "    </tr>\n",
       "    <tr>\n",
       "      <td>6</td>\n",
       "      <td>[33, 34, 35, 36, 37]</td>\n",
       "      <td>5</td>\n",
       "      <td>7</td>\n",
       "    </tr>\n",
       "    <tr>\n",
       "      <td>7</td>\n",
       "      <td>[40, 41, 42, 43]</td>\n",
       "      <td>4</td>\n",
       "      <td>4</td>\n",
       "    </tr>\n",
       "    <tr>\n",
       "      <td>8</td>\n",
       "      <td>[46, 47, 48]</td>\n",
       "      <td>3</td>\n",
       "      <td>2</td>\n",
       "    </tr>\n",
       "    <tr>\n",
       "      <td>10</td>\n",
       "      <td>[54, 55]</td>\n",
       "      <td>2</td>\n",
       "      <td>1</td>\n",
       "    </tr>\n",
       "    <tr>\n",
       "      <td>11</td>\n",
       "      <td>[58, 59]</td>\n",
       "      <td>2</td>\n",
       "      <td>1</td>\n",
       "    </tr>\n",
       "    <tr>\n",
       "      <td>12</td>\n",
       "      <td>[62, 63, 64, 65]</td>\n",
       "      <td>4</td>\n",
       "      <td>4</td>\n",
       "    </tr>\n",
       "    <tr>\n",
       "      <td>13</td>\n",
       "      <td>[68, 69, 70]</td>\n",
       "      <td>3</td>\n",
       "      <td>2</td>\n",
       "    </tr>\n",
       "    <tr>\n",
       "      <td>15</td>\n",
       "      <td>[76, 77, 78]</td>\n",
       "      <td>3</td>\n",
       "      <td>2</td>\n",
       "    </tr>\n",
       "    <tr>\n",
       "      <td>16</td>\n",
       "      <td>[81, 82, 83, 84]</td>\n",
       "      <td>4</td>\n",
       "      <td>4</td>\n",
       "    </tr>\n",
       "    <tr>\n",
       "      <td>18</td>\n",
       "      <td>[90, 91, 92, 93, 94]</td>\n",
       "      <td>5</td>\n",
       "      <td>7</td>\n",
       "    </tr>\n",
       "    <tr>\n",
       "      <td>19</td>\n",
       "      <td>[97, 98, 99, 100]</td>\n",
       "      <td>4</td>\n",
       "      <td>4</td>\n",
       "    </tr>\n",
       "    <tr>\n",
       "      <td>21</td>\n",
       "      <td>[106, 107, 108, 109]</td>\n",
       "      <td>4</td>\n",
       "      <td>4</td>\n",
       "    </tr>\n",
       "    <tr>\n",
       "      <td>22</td>\n",
       "      <td>[112, 113, 114, 115, 116]</td>\n",
       "      <td>5</td>\n",
       "      <td>7</td>\n",
       "    </tr>\n",
       "    <tr>\n",
       "      <td>23</td>\n",
       "      <td>[119, 120, 121, 122, 123]</td>\n",
       "      <td>5</td>\n",
       "      <td>7</td>\n",
       "    </tr>\n",
       "    <tr>\n",
       "      <td>24</td>\n",
       "      <td>[126, 127, 128, 129]</td>\n",
       "      <td>4</td>\n",
       "      <td>4</td>\n",
       "    </tr>\n",
       "    <tr>\n",
       "      <td>25</td>\n",
       "      <td>[132, 133, 134, 135]</td>\n",
       "      <td>4</td>\n",
       "      <td>4</td>\n",
       "    </tr>\n",
       "    <tr>\n",
       "      <td>26</td>\n",
       "      <td>[138, 139, 140, 141, 142]</td>\n",
       "      <td>5</td>\n",
       "      <td>7</td>\n",
       "    </tr>\n",
       "    <tr>\n",
       "      <td>27</td>\n",
       "      <td>[145, 146, 147, 148, 149]</td>\n",
       "      <td>5</td>\n",
       "      <td>7</td>\n",
       "    </tr>\n",
       "  </tbody>\n",
       "</table>\n",
       "</div>"
      ],
      "text/plain": [
       "                               0  len  combs\n",
       "chunk                                       \n",
       "0                      [0, 1, 2]    3      2\n",
       "1                         [5, 6]    2      1\n",
       "2            [9, 10, 11, 12, 13]    5      7\n",
       "4           [19, 20, 21, 22, 23]    5      7\n",
       "5           [26, 27, 28, 29, 30]    5      7\n",
       "6           [33, 34, 35, 36, 37]    5      7\n",
       "7               [40, 41, 42, 43]    4      4\n",
       "8                   [46, 47, 48]    3      2\n",
       "10                      [54, 55]    2      1\n",
       "11                      [58, 59]    2      1\n",
       "12              [62, 63, 64, 65]    4      4\n",
       "13                  [68, 69, 70]    3      2\n",
       "15                  [76, 77, 78]    3      2\n",
       "16              [81, 82, 83, 84]    4      4\n",
       "18          [90, 91, 92, 93, 94]    5      7\n",
       "19             [97, 98, 99, 100]    4      4\n",
       "21          [106, 107, 108, 109]    4      4\n",
       "22     [112, 113, 114, 115, 116]    5      7\n",
       "23     [119, 120, 121, 122, 123]    5      7\n",
       "24          [126, 127, 128, 129]    4      4\n",
       "25          [132, 133, 134, 135]    4      4\n",
       "26     [138, 139, 140, 141, 142]    5      7\n",
       "27     [145, 146, 147, 148, 149]    5      7"
      ]
     },
     "execution_count": 340,
     "metadata": {},
     "output_type": "execute_result"
    }
   ],
   "source": [
    "chunks"
   ]
  },
  {
   "cell_type": "code",
   "execution_count": null,
   "metadata": {},
   "outputs": [],
   "source": []
  }
 ],
 "metadata": {
  "kernelspec": {
   "display_name": "Python 3",
   "language": "python",
   "name": "python3"
  },
  "language_info": {
   "codemirror_mode": {
    "name": "ipython",
    "version": 3
   },
   "file_extension": ".py",
   "mimetype": "text/x-python",
   "name": "python",
   "nbconvert_exporter": "python",
   "pygments_lexer": "ipython3",
   "version": "3.7.4"
  }
 },
 "nbformat": 4,
 "nbformat_minor": 2
}
