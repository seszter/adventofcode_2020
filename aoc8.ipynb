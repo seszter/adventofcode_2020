{
 "cells": [
  {
   "cell_type": "code",
   "execution_count": 37,
   "metadata": {},
   "outputs": [],
   "source": [
    "with open('aoc8.txt') as f:\n",
    "    lines = [x.strip('\\n') for x in f.readlines()]"
   ]
  },
  {
   "cell_type": "markdown",
   "metadata": {},
   "source": [
    "### Part 1"
   ]
  },
  {
   "cell_type": "code",
   "execution_count": 14,
   "metadata": {},
   "outputs": [
    {
     "data": {
      "text/plain": [
       "1797"
      ]
     },
     "execution_count": 14,
     "metadata": {},
     "output_type": "execute_result"
    }
   ],
   "source": [
    "visited_instructions = []\n",
    "accumulator = 0\n",
    "i = 0\n",
    "while True:\n",
    "    if i in visited_instructions:\n",
    "        break\n",
    "    visited_instructions.append(i)\n",
    "    instr = lines[i].split(' ')[0]\n",
    "    num = int(lines[i].split(' ')[1])\n",
    "    if instr == 'nop':\n",
    "        i += 1\n",
    "    elif instr == 'acc':\n",
    "            accumulator += num\n",
    "            i += 1\n",
    "    else:\n",
    "        i += num\n",
    "    \n",
    "accumulator       "
   ]
  },
  {
   "cell_type": "markdown",
   "metadata": {},
   "source": [
    "### Part 2"
   ]
  },
  {
   "cell_type": "code",
   "execution_count": 38,
   "metadata": {},
   "outputs": [],
   "source": [
    "### the instruction to change has to be one that runs before the first infinite loop\n",
    "visited_instructions = []\n",
    "accumulator = 0\n",
    "i = 0\n",
    "while True:\n",
    "    if i in visited_instructions:\n",
    "        break\n",
    "    visited_instructions.append(i)\n",
    "    instr = lines[i].split(' ')[0]\n",
    "    num = int(lines[i].split(' ')[1])\n",
    "    if instr == 'nop':\n",
    "        i += 1\n",
    "    elif instr == 'acc':\n",
    "            accumulator += num\n",
    "            i += 1\n",
    "    else:\n",
    "        i += num\n",
    "\n",
    "possible_changes_indeces = [x for x in visited_instructions if lines[x].split(' ')[0] != 'acc']"
   ]
  },
  {
   "cell_type": "code",
   "execution_count": 39,
   "metadata": {},
   "outputs": [
    {
     "name": "stdout",
     "output_type": "stream",
     "text": [
      "win 1036\n"
     ]
    }
   ],
   "source": [
    "for ii in possible_changes_indeces:\n",
    "    visited_instructions = []\n",
    "    accumulator = 0\n",
    "    i = 0\n",
    "    while True:\n",
    "        if i in visited_instructions:\n",
    "            break\n",
    "        visited_instructions.append(i)\n",
    "        instr = lines[i].split(' ')[0]\n",
    "        num = int(lines[i].split(' ')[1])\n",
    "        if i == ii:\n",
    "            if instr == 'nop':\n",
    "                instr = 'jmp'\n",
    "            elif instr == 'jmp':\n",
    "                instr = 'nop'\n",
    "        if instr == 'nop':\n",
    "            i += 1\n",
    "        elif instr == 'acc':\n",
    "                accumulator += num\n",
    "                i += 1\n",
    "        else:\n",
    "            i += num\n",
    "        if i >= len(lines):\n",
    "            print('win', accumulator)\n",
    "            break\n",
    "    if i >= len(lines):\n",
    "        break"
   ]
  },
  {
   "cell_type": "code",
   "execution_count": null,
   "metadata": {},
   "outputs": [],
   "source": []
  }
 ],
 "metadata": {
  "kernelspec": {
   "display_name": "Python 3",
   "language": "python",
   "name": "python3"
  },
  "language_info": {
   "codemirror_mode": {
    "name": "ipython",
    "version": 3
   },
   "file_extension": ".py",
   "mimetype": "text/x-python",
   "name": "python",
   "nbconvert_exporter": "python",
   "pygments_lexer": "ipython3",
   "version": "3.7.4"
  }
 },
 "nbformat": 4,
 "nbformat_minor": 2
}
