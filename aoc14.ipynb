{
 "cells": [
  {
   "cell_type": "code",
   "execution_count": 5,
   "metadata": {},
   "outputs": [],
   "source": [
    "from itertools import combinations\n",
    "import re"
   ]
  },
  {
   "cell_type": "code",
   "execution_count": 27,
   "metadata": {},
   "outputs": [],
   "source": [
    "with open('aoc14.txt') as f:\n",
    "    lines = [x.strip('\\n') for x in f.readlines()]"
   ]
  },
  {
   "cell_type": "markdown",
   "metadata": {},
   "source": [
    "### Part 1"
   ]
  },
  {
   "cell_type": "code",
   "execution_count": 56,
   "metadata": {
    "scrolled": true
   },
   "outputs": [],
   "source": [
    "current_mask = ''\n",
    "mems = {}\n",
    "\n",
    "for l in lines:\n",
    "    if l.startswith('mask'):\n",
    "        current_mask = l.split(' ')[-1]\n",
    "        #print(current_mask)\n",
    "        ones = [x.start() for x in re.finditer('1',current_mask)]\n",
    "        zeros = [x.start() for x in re.finditer('0',current_mask)]\n",
    "    else:\n",
    "        x = bin(int(l.split(' ')[-1])).zfill(37).replace('b','')\n",
    "        #print(x)\n",
    "        for one in ones:\n",
    "            x = x[:one] + '1' + x[one + 1:]\n",
    "        for zero in zeros:\n",
    "            x = x[:zero] + '0' + x[zero + 1:]\n",
    "        #print(x)\n",
    "        mems[l.split(' ')[0]] = int(x,2)\n",
    "        #print(mems)"
   ]
  },
  {
   "cell_type": "code",
   "execution_count": 55,
   "metadata": {},
   "outputs": [
    {
     "data": {
      "text/plain": [
       "13556564111697"
      ]
     },
     "execution_count": 55,
     "metadata": {},
     "output_type": "execute_result"
    }
   ],
   "source": [
    "sum([v for k,v in mems.items()])"
   ]
  },
  {
   "cell_type": "markdown",
   "metadata": {},
   "source": [
    "### Part 2"
   ]
  },
  {
   "cell_type": "code",
   "execution_count": 32,
   "metadata": {
    "scrolled": true
   },
   "outputs": [],
   "source": [
    "current_mask = ''\n",
    "mems = {}\n",
    "\n",
    "for l in lines:\n",
    "    if l.startswith('mask'):\n",
    "        current_mask = l.split(' ')[-1]\n",
    "        \n",
    "        ones = [x.start() for x in re.finditer('1',current_mask)]\n",
    "        xes = [x.start() for x in re.finditer('X',current_mask)]\n",
    "        xcombs = sum([list(map(list, combinations(xes, i))) for i in range(len(xes) + 1)], [])\n",
    "        \n",
    "    else:\n",
    "        x = bin(int(l.split('[')[1].split(']')[0])).zfill(37).replace('b','')\n",
    "        \n",
    "        for one in ones:\n",
    "            x = x[:one] + '1' + x[one + 1:]\n",
    "        \n",
    "        for combs in xcombs:\n",
    "            x_changed = x\n",
    "            for c in xes:     \n",
    "                if c in combs:\n",
    "                    x_changed = x_changed[:c] + '1' + x_changed[c + 1:]\n",
    "                else:\n",
    "                    x_changed = x_changed[:c] + '0' + x_changed[c + 1:]\n",
    "            mems[int(x_changed,2)] = int(l.split(' ')[-1])\n",
    "\n",
    "    "
   ]
  },
  {
   "cell_type": "code",
   "execution_count": 33,
   "metadata": {},
   "outputs": [
    {
     "data": {
      "text/plain": [
       "4173715962894"
      ]
     },
     "execution_count": 33,
     "metadata": {},
     "output_type": "execute_result"
    }
   ],
   "source": [
    "sum([v for k,v in mems.items()])"
   ]
  },
  {
   "cell_type": "code",
   "execution_count": null,
   "metadata": {},
   "outputs": [],
   "source": []
  }
 ],
 "metadata": {
  "kernelspec": {
   "display_name": "Python 3",
   "language": "python",
   "name": "python3"
  },
  "language_info": {
   "codemirror_mode": {
    "name": "ipython",
    "version": 3
   },
   "file_extension": ".py",
   "mimetype": "text/x-python",
   "name": "python",
   "nbconvert_exporter": "python",
   "pygments_lexer": "ipython3",
   "version": "3.7.4"
  }
 },
 "nbformat": 4,
 "nbformat_minor": 2
}
