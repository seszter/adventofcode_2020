{
 "cells": [
  {
   "cell_type": "code",
   "execution_count": 5,
   "metadata": {},
   "outputs": [],
   "source": [
    "from itertools import combinations"
   ]
  },
  {
   "cell_type": "code",
   "execution_count": 33,
   "metadata": {},
   "outputs": [],
   "source": [
    "with open('aoc9.txt') as f:\n",
    "    nums = [int(x.strip('\\n')) for x in f.readlines()]"
   ]
  },
  {
   "cell_type": "markdown",
   "metadata": {},
   "source": [
    "### Part 1"
   ]
  },
  {
   "cell_type": "code",
   "execution_count": 25,
   "metadata": {},
   "outputs": [
    {
     "name": "stdout",
     "output_type": "stream",
     "text": [
      "21806024\n"
     ]
    }
   ],
   "source": [
    "i = 25\n",
    "while True:\n",
    "    valid = 0\n",
    "    possible_nums = [x for x in nums[i-25:i] if x < nums[i]]\n",
    "    for x,y in combinations(possible_nums,2):\n",
    "        if x + y == nums[i]:\n",
    "            valid = 1\n",
    "    if valid == 0:\n",
    "        print(nums[i])\n",
    "        break\n",
    "    i += 1\n",
    "        "
   ]
  },
  {
   "cell_type": "markdown",
   "metadata": {},
   "source": [
    "### Part 2"
   ]
  },
  {
   "cell_type": "code",
   "execution_count": 34,
   "metadata": {},
   "outputs": [],
   "source": [
    "invalid_num = 21806024"
   ]
  },
  {
   "cell_type": "code",
   "execution_count": 35,
   "metadata": {},
   "outputs": [
    {
     "name": "stdout",
     "output_type": "stream",
     "text": [
      "2986195 [1566795, 900278, 1292805, 961108, 1032997, 1090455, 1093451, 1125018, 1583997, 1164941, 1210201, 1185131, 1196168, 1199164, 2085917, 1774618, 1342980]\n"
     ]
    }
   ],
   "source": [
    "i = 0\n",
    "while True:\n",
    "    interim_sum = nums[i]\n",
    "    ii = 1\n",
    "    while interim_sum < invalid_num:\n",
    "        interim_sum += nums[i+ii]\n",
    "        ii += 1\n",
    "    if interim_sum == invalid_num:\n",
    "        print(max(nums[i:i+ii])+min(nums[i:i+ii]), nums[i:i+ii])\n",
    "        break\n",
    "    i += 1"
   ]
  },
  {
   "cell_type": "code",
   "execution_count": null,
   "metadata": {},
   "outputs": [],
   "source": []
  }
 ],
 "metadata": {
  "kernelspec": {
   "display_name": "Python 3",
   "language": "python",
   "name": "python3"
  },
  "language_info": {
   "codemirror_mode": {
    "name": "ipython",
    "version": 3
   },
   "file_extension": ".py",
   "mimetype": "text/x-python",
   "name": "python",
   "nbconvert_exporter": "python",
   "pygments_lexer": "ipython3",
   "version": "3.7.4"
  }
 },
 "nbformat": 4,
 "nbformat_minor": 2
}
