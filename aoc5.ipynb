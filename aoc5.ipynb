{
 "cells": [
  {
   "cell_type": "code",
   "execution_count": 1,
   "metadata": {},
   "outputs": [],
   "source": [
    "from math import ceil"
   ]
  },
  {
   "cell_type": "code",
   "execution_count": 2,
   "metadata": {},
   "outputs": [],
   "source": [
    "with open('aoc5.txt') as f:\n",
    "    passes = [x.strip('\\n') for x in f.readlines()]"
   ]
  },
  {
   "cell_type": "code",
   "execution_count": 3,
   "metadata": {},
   "outputs": [],
   "source": [
    "def get_half(minmax_set,letter):\n",
    "    if letter in ['F','L']:\n",
    "        return minmax_set[0],minmax_set[0] + int((minmax_set[1] - minmax_set[0])/2)\n",
    "    return minmax_set[0] + ceil((minmax_set[1] - minmax_set[0])/2),minmax_set[1]\n",
    "\n",
    "def get_pos(minmax_set,letters):\n",
    "    for letter in letters:\n",
    "        minmax_set = get_half(minmax_set,letter)\n",
    "    return minmax_set[0]"
   ]
  },
  {
   "cell_type": "code",
   "execution_count": 4,
   "metadata": {},
   "outputs": [
    {
     "data": {
      "text/plain": [
       "801"
      ]
     },
     "execution_count": 4,
     "metadata": {},
     "output_type": "execute_result"
    }
   ],
   "source": [
    "highest_id = 0\n",
    "for p in passes:\n",
    "    row = get_pos((0,127),p[:7])\n",
    "    col = get_pos((0,7),p[-3:])\n",
    "    highest_id = max(row * 8 + col, highest_id)\n",
    "highest_id"
   ]
  },
  {
   "cell_type": "markdown",
   "metadata": {},
   "source": [
    "### Part 2"
   ]
  },
  {
   "cell_type": "code",
   "execution_count": 5,
   "metadata": {},
   "outputs": [],
   "source": [
    "boarding_passes = []\n",
    "for p in passes:\n",
    "    row = get_pos((0,127),p[:7])\n",
    "    col = get_pos((0,7),p[-3:])\n",
    "    boarding_passes.append(row * 8 + col)"
   ]
  },
  {
   "cell_type": "code",
   "execution_count": 6,
   "metadata": {},
   "outputs": [
    {
     "name": "stdout",
     "output_type": "stream",
     "text": [
      "597\n"
     ]
    }
   ],
   "source": [
    "for i in range(min(boarding_passes) + 1, max(boarding_passes) - 1):\n",
    "    if i not in boarding_passes and i-1 in boarding_passes and i+1 in boarding_passes:\n",
    "        print(i)\n",
    "        break"
   ]
  },
  {
   "cell_type": "code",
   "execution_count": null,
   "metadata": {},
   "outputs": [],
   "source": []
  }
 ],
 "metadata": {
  "kernelspec": {
   "display_name": "Python 3",
   "language": "python",
   "name": "python3"
  },
  "language_info": {
   "codemirror_mode": {
    "name": "ipython",
    "version": 3
   },
   "file_extension": ".py",
   "mimetype": "text/x-python",
   "name": "python",
   "nbconvert_exporter": "python",
   "pygments_lexer": "ipython3",
   "version": "3.7.4"
  }
 },
 "nbformat": 4,
 "nbformat_minor": 2
}
