{
 "cells": [
  {
   "cell_type": "markdown",
   "metadata": {},
   "source": [
    "### pandas solution "
   ]
  },
  {
   "cell_type": "code",
   "execution_count": 26,
   "metadata": {},
   "outputs": [],
   "source": [
    "import re\n",
    "import pandas as pd"
   ]
  },
  {
   "cell_type": "code",
   "execution_count": 193,
   "metadata": {},
   "outputs": [],
   "source": [
    "with open('aoc4.txt') as f:\n",
    "    lines = f.readlines()"
   ]
  },
  {
   "cell_type": "code",
   "execution_count": 219,
   "metadata": {},
   "outputs": [],
   "source": [
    "df = pd.DataFrame(lines)\n",
    "df['new'] = df[0] == '\\n'\n",
    "\n",
    "df['id'] = df['new'].cumsum()\n",
    "df = df[df['new'] == False].copy()\n",
    "\n",
    "dff = df.drop('new', axis=1).set_index('id').apply(lambda x: x.str.split(' ').explode()).reset_index()\n",
    "dff[['key','value']] = dff[0].str.split(':', expand=True)\n",
    "df_pivot = dff.pivot(index='id',columns='key',values='value')\n",
    "\n",
    "df_valids = df_pivot.drop('cid',axis=1)\n",
    "df_valids = df_valids[~df_valids.isnull().any(axis=1)]"
   ]
  },
  {
   "cell_type": "code",
   "execution_count": 220,
   "metadata": {},
   "outputs": [
    {
     "data": {
      "text/plain": [
       "219"
      ]
     },
     "execution_count": 220,
     "metadata": {},
     "output_type": "execute_result"
    }
   ],
   "source": [
    "len(df_valids)"
   ]
  },
  {
   "cell_type": "markdown",
   "metadata": {},
   "source": [
    "### Part 2"
   ]
  },
  {
   "cell_type": "code",
   "execution_count": 221,
   "metadata": {},
   "outputs": [
    {
     "data": {
      "text/plain": [
       "127"
      ]
     },
     "execution_count": 221,
     "metadata": {},
     "output_type": "execute_result"
    }
   ],
   "source": [
    "df_valids = df_valids.applymap(lambda x: x.strip('\\n'))\n",
    "\n",
    "df_valids['hgt_num'] = df_valids['hgt'].apply(lambda x: x[:-2])\n",
    "df_valids['hgt_metric'] = df_valids['hgt'].apply(lambda x: x[-2:])\n",
    "\n",
    "df_valids[['byr', 'eyr','iyr', 'hgt_num']] = df_valids[['byr', 'eyr','iyr', 'hgt_num']].apply(pd.to_numeric, errors='ignore')\n",
    "\n",
    "df_valids2 = df_valids[\n",
    "        ((df_valids['byr'] >= 1920) & (df_valids['byr'] <= 2002)) & \n",
    "        ((df_valids['iyr'] >= 2010) & (df_valids['iyr'] <= 2020)) & \n",
    "        ((df_valids['eyr'] >= 2020) & (df_valids['eyr'] <= 2030)) &\n",
    "        (df_valids['ecl'].isin(['amb', 'blu', 'brn', 'gry', 'grn', 'hzl', 'oth'])) &\n",
    "        (df_valids['hcl'].str.match('\\#[a-f0-9]{6}')) &\n",
    "        (df_valids['pid'].str.match('^\\d{9}$')) &\n",
    "        (\n",
    "            ((df_valids['hgt_metric'] == 'cm') & (df_valids['hgt_num'] >= 150) & (df_valids['hgt_num'] <= 193)) | \n",
    "            ((df_valids['hgt_metric'] == 'in') & (df_valids['hgt_num'] >= 59) & (df_valids['hgt_num'] <= 76))\n",
    "        )        \n",
    "    ]\n",
    "len(df_valids2)"
   ]
  },
  {
   "cell_type": "code",
   "execution_count": null,
   "metadata": {},
   "outputs": [],
   "source": []
  }
 ],
 "metadata": {
  "kernelspec": {
   "display_name": "Python 3",
   "language": "python",
   "name": "python3"
  },
  "language_info": {
   "codemirror_mode": {
    "name": "ipython",
    "version": 3
   },
   "file_extension": ".py",
   "mimetype": "text/x-python",
   "name": "python",
   "nbconvert_exporter": "python",
   "pygments_lexer": "ipython3",
   "version": "3.7.4"
  }
 },
 "nbformat": 4,
 "nbformat_minor": 2
}
