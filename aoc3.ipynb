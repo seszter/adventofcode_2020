{
 "cells": [
  {
   "cell_type": "code",
   "execution_count": 32,
   "metadata": {},
   "outputs": [],
   "source": [
    "with open('aoc3.txt') as f:\n",
    "    forest = [line.rstrip() for line in f.readlines()]"
   ]
  },
  {
   "cell_type": "code",
   "execution_count": 21,
   "metadata": {},
   "outputs": [
    {
     "data": {
      "text/plain": [
       "286"
      ]
     },
     "execution_count": 21,
     "metadata": {},
     "output_type": "execute_result"
    }
   ],
   "source": [
    "poz = 0\n",
    "trees = 0\n",
    "for l in forest:\n",
    "    if l[poz] == '#':\n",
    "        trees += 1\n",
    "    poz = (poz + 3) % len(l)\n",
    "trees    "
   ]
  },
  {
   "cell_type": "markdown",
   "metadata": {},
   "source": [
    "### part 2"
   ]
  },
  {
   "cell_type": "code",
   "execution_count": 33,
   "metadata": {},
   "outputs": [
    {
     "data": {
      "text/plain": [
       "3638606400"
      ]
     },
     "execution_count": 33,
     "metadata": {},
     "output_type": "execute_result"
    }
   ],
   "source": [
    "slopes = 1\n",
    "for down,right in [(1,1),(1,3),(1,5),(1,7),(2,1)]:\n",
    "    trees = 0\n",
    "    poz_right = 0\n",
    "    poz_down = 0\n",
    "    while poz_down < len(forest):\n",
    "        if forest[poz_down][poz_right] == '#':\n",
    "            trees += 1\n",
    "        poz_right = (poz_right + right) % len(forest[poz_down])\n",
    "        poz_down += down\n",
    "    slopes = slopes * trees\n",
    "slopes"
   ]
  },
  {
   "cell_type": "code",
   "execution_count": null,
   "metadata": {},
   "outputs": [],
   "source": []
  }
 ],
 "metadata": {
  "kernelspec": {
   "display_name": "Python 3",
   "language": "python",
   "name": "python3"
  },
  "language_info": {
   "codemirror_mode": {
    "name": "ipython",
    "version": 3
   },
   "file_extension": ".py",
   "mimetype": "text/x-python",
   "name": "python",
   "nbconvert_exporter": "python",
   "pygments_lexer": "ipython3",
   "version": "3.7.4"
  }
 },
 "nbformat": 4,
 "nbformat_minor": 2
}
