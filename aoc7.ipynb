{
 "cells": [
  {
   "cell_type": "code",
   "execution_count": 5,
   "metadata": {},
   "outputs": [],
   "source": [
    "import re"
   ]
  },
  {
   "cell_type": "code",
   "execution_count": 114,
   "metadata": {},
   "outputs": [],
   "source": [
    "with open('aoc7.txt') as f:\n",
    "    rules = f.readlines()"
   ]
  },
  {
   "cell_type": "markdown",
   "metadata": {},
   "source": [
    "### Part 1"
   ]
  },
  {
   "cell_type": "code",
   "execution_count": 110,
   "metadata": {},
   "outputs": [],
   "source": [
    "bags_to_look_for = ['shiny gold bag']\n",
    "outside_bags = []\n",
    "while len(bags_to_look_for) > 0:\n",
    "    new_bags_to_look_for = []\n",
    "    for bag in bags_to_look_for:\n",
    "        new_bags_to_look_for += set([item for sublist in \n",
    "                                     [re.findall('^\\w+\\s\\w+\\sbag',x) for x in rules if bag in x[1:]] for item in sublist])\n",
    "        rules = [x for x in rules if bag not in x]\n",
    "    bags_to_look_for = set(new_bags_to_look_for)\n",
    "    outside_bags += bags_to_look_for"
   ]
  },
  {
   "cell_type": "code",
   "execution_count": 111,
   "metadata": {},
   "outputs": [
    {
     "data": {
      "text/plain": [
       "128"
      ]
     },
     "execution_count": 111,
     "metadata": {},
     "output_type": "execute_result"
    }
   ],
   "source": [
    "len(outside_bags)"
   ]
  },
  {
   "cell_type": "markdown",
   "metadata": {},
   "source": [
    "### Part 2"
   ]
  },
  {
   "cell_type": "code",
   "execution_count": null,
   "metadata": {},
   "outputs": [],
   "source": [
    "with open('aoc7.txt') as f:\n",
    "    rules = f.readlines()"
   ]
  },
  {
   "cell_type": "code",
   "execution_count": 112,
   "metadata": {},
   "outputs": [],
   "source": [
    "def bags(bagname):\n",
    "    rule = [x for x in rules if x.startswith(bagname)][0]\n",
    "    if 'contain no other bags' in rule:        \n",
    "        return 1\n",
    "    else:\n",
    "        contained_bags = list(zip(re.findall('\\d',rule), re.findall('(?<=\\d\\s)\\w+\\s\\w+', rule)))\n",
    "        return sum([int(x[0]) * bags(x[1]) if bags(x[1]) == 1 else int(x[0]) * bags(x[1]) + int(x[0]) for x in contained_bags]) \n",
    "        \n",
    "    "
   ]
  },
  {
   "cell_type": "code",
   "execution_count": 115,
   "metadata": {},
   "outputs": [
    {
     "data": {
      "text/plain": [
       "20189"
      ]
     },
     "execution_count": 115,
     "metadata": {},
     "output_type": "execute_result"
    }
   ],
   "source": [
    "bags('shiny gold bag')"
   ]
  }
 ],
 "metadata": {
  "kernelspec": {
   "display_name": "Python 3",
   "language": "python",
   "name": "python3"
  },
  "language_info": {
   "codemirror_mode": {
    "name": "ipython",
    "version": 3
   },
   "file_extension": ".py",
   "mimetype": "text/x-python",
   "name": "python",
   "nbconvert_exporter": "python",
   "pygments_lexer": "ipython3",
   "version": "3.7.4"
  }
 },
 "nbformat": 4,
 "nbformat_minor": 2
}
