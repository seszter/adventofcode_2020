{
 "cells": [
  {
   "cell_type": "code",
   "execution_count": 79,
   "metadata": {},
   "outputs": [],
   "source": [
    "with open('aoc12.txt') as f:\n",
    "    lines = [x.strip('\\n') for x in f.readlines()]"
   ]
  },
  {
   "cell_type": "markdown",
   "metadata": {},
   "source": [
    "### Part 1"
   ]
  },
  {
   "cell_type": "code",
   "execution_count": 80,
   "metadata": {},
   "outputs": [],
   "source": [
    "class Ship:\n",
    "    def __init__(self):\n",
    "        self.facing = 'E'\n",
    "        self.pos = [0,0]\n",
    "        \n",
    "    def turn(self,lr):\n",
    "        directions = ['E','S','W','N']\n",
    "        if lr[0] == 'R':\n",
    "            multiplier = 1\n",
    "        else:\n",
    "            multiplier = -1\n",
    "\n",
    "        self.facing = directions[(directions.index(self.facing) + multiplier*(int(lr[1:])//90)) % 4]\n",
    "        \n",
    "        \n",
    "    def move(self,direction):\n",
    "        direction = direction.replace('F',self.facing)\n",
    "        if direction[0] == 'E':\n",
    "            self.pos[0] += int(direction[1:])\n",
    "        elif direction[0] == 'W':\n",
    "            self.pos[0] -= int(direction[1:])\n",
    "        elif direction[0] == 'N':\n",
    "            self.pos[1] += int(direction[1:])\n",
    "        elif direction[0] == 'S':\n",
    "            self.pos[1] -= int(direction[1:])\n",
    "    \n",
    "    def return_pos(self):\n",
    "        return self.pos\n",
    "        \n",
    "    def return_facing(self):\n",
    "        return self.facing"
   ]
  },
  {
   "cell_type": "code",
   "execution_count": 81,
   "metadata": {},
   "outputs": [
    {
     "data": {
      "text/plain": [
       "2057"
      ]
     },
     "execution_count": 81,
     "metadata": {},
     "output_type": "execute_result"
    }
   ],
   "source": [
    "ship = Ship()\n",
    "for l in lines:\n",
    "    if l[0] in ['R','L']:\n",
    "        ship.turn(l)\n",
    "    else:\n",
    "        ship.move(l)\n",
    "abs(ship.return_pos()[0]) + abs(ship.return_pos()[1])"
   ]
  },
  {
   "cell_type": "markdown",
   "metadata": {},
   "source": [
    "### Part 2"
   ]
  },
  {
   "cell_type": "code",
   "execution_count": 82,
   "metadata": {},
   "outputs": [],
   "source": [
    "class Ship:\n",
    "    def __init__(self):\n",
    "        self.shippos = [0,0]\n",
    "        self.waypointpos = [10,1]\n",
    "        \n",
    "    def turn(self,lr):\n",
    "        a = self.waypointpos[0]\n",
    "        b = self.waypointpos[1]        \n",
    "        pattern = [[a,b],[b,-a],[-a,-b],[-b,a]]\n",
    "        \n",
    "        if lr[0] == 'R':\n",
    "            multiplier = 1\n",
    "        else:\n",
    "            multiplier = -1\n",
    "        self.waypointpos = pattern[multiplier*(int(lr[1:])//90) % 4]       \n",
    "        \n",
    "    def move(self,direction):\n",
    "        if direction[0] == 'F':\n",
    "            self.shippos[0] += int(direction[1:])*self.waypointpos[0]\n",
    "            self.shippos[1] += int(direction[1:])*self.waypointpos[1]\n",
    "        elif direction[0] == 'E':\n",
    "            self.waypointpos[0] += int(direction[1:])\n",
    "        elif direction[0] == 'W':\n",
    "            self.waypointpos[0] -= int(direction[1:])\n",
    "        elif direction[0] == 'N':\n",
    "            self.waypointpos[1] += int(direction[1:])\n",
    "        elif direction[0] == 'S':\n",
    "            self.waypointpos[1] -= int(direction[1:])\n",
    "      \n",
    "    \n",
    "    def return_pos(self):\n",
    "        return self.shippos, self.waypointpos\n"
   ]
  },
  {
   "cell_type": "code",
   "execution_count": 83,
   "metadata": {},
   "outputs": [
    {
     "data": {
      "text/plain": [
       "71504"
      ]
     },
     "execution_count": 83,
     "metadata": {},
     "output_type": "execute_result"
    }
   ],
   "source": [
    "ship = Ship()\n",
    "for l in lines:\n",
    "    if l[0] in ['R','L']:\n",
    "        ship.turn(l)\n",
    "    else:\n",
    "        ship.move(l)\n",
    "abs(ship.return_pos()[0][0]) + abs(ship.return_pos()[0][1])"
   ]
  },
  {
   "cell_type": "code",
   "execution_count": null,
   "metadata": {},
   "outputs": [],
   "source": []
  }
 ],
 "metadata": {
  "kernelspec": {
   "display_name": "Python 3",
   "language": "python",
   "name": "python3"
  },
  "language_info": {
   "codemirror_mode": {
    "name": "ipython",
    "version": 3
   },
   "file_extension": ".py",
   "mimetype": "text/x-python",
   "name": "python",
   "nbconvert_exporter": "python",
   "pygments_lexer": "ipython3",
   "version": "3.7.4"
  }
 },
 "nbformat": 4,
 "nbformat_minor": 2
}
